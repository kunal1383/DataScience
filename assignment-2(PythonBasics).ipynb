{
 "cells": [
  {
   "cell_type": "raw",
   "id": "7f9eddf7",
   "metadata": {},
   "source": [
    "1.What are the two values of the Boolean data type? How do you write them?\n",
    "\n",
    "Ans:The two values of boolean data type are \"True\" and \"Flase\". Both True and False should have the first letter in   uppercase and rest in lowercase"
   ]
  },
  {
   "cell_type": "raw",
   "id": "65b205a5",
   "metadata": {},
   "source": [
    "2.What are the three different types of Boolean operators?\n",
    "\n",
    "Ans:The three different tpyes of Boolean operators are \"and\" ,\"or\" and \"not\"."
   ]
  },
  {
   "cell_type": "raw",
   "id": "e7f125c3",
   "metadata": {},
   "source": [
    "3.Make a list of each Boolean operator's truth tables (i.e. every possible combination of Boolean\n",
    "values for the operator and what it evaluate ).\n",
    "\n",
    "Ans :\n",
    "    AND operator:\n",
    "    1.True and True is True   \n",
    "    2.True and False is False  \n",
    "    3.False and True is False  \n",
    "    4.False and False is False\n",
    "\n",
    "\n",
    "    OR operator:\n",
    "    1.True or True is True   \n",
    "    2.True or False is True  \n",
    "    3.False or True is True  \n",
    "    4.False or False is False\n",
    "\n",
    "    NOT operator:\n",
    "    1. not(True) is Flase\n",
    "    2. not(False) is True"
   ]
  },
  {
   "cell_type": "raw",
   "id": "a6fc5f87",
   "metadata": {},
   "source": [
    "4. What are the values of the following expressions ?\n",
    "(5 > 4) and (3 == 5)\n",
    "not (5 > 4)\n",
    "(5 > 4) or (3 == 5)\n",
    "not ((5 > 4) or (3 == 5))\n",
    "(True and True) and (True == False)\n",
    "(not False) or (not True)\n",
    "\n",
    "Ans :\n",
    "    (5 > 4) and (3 == 5) : False\n",
    "    not (5 > 4)  : Fasle\n",
    "    (5 > 4) or (3 == 5) :True\n",
    "    not ((5 > 4) or (3 == 5)) :Fasle\n",
    "    (True and True) and (True == False) :Fasle\n",
    "    (not False) or (not True) : True\n"
   ]
  },
  {
   "cell_type": "code",
   "execution_count": 1,
   "id": "44afb963",
   "metadata": {},
   "outputs": [
    {
     "name": "stdout",
     "output_type": "stream",
     "text": [
      "False\n",
      "False\n",
      "True\n",
      "False\n",
      "False\n",
      "True\n"
     ]
    }
   ],
   "source": [
    "print((5 > 4) and (3 == 5))\n",
    "print(not (5 > 4))\n",
    "print((5 > 4) or (3 == 5))\n",
    "print(not ((5 > 4) or (3 == 5)))\n",
    "print((True and True) and (True == False))\n",
    "print((not False) or (not True))"
   ]
  },
  {
   "cell_type": "raw",
   "id": "8f33c0fc",
   "metadata": {},
   "source": [
    "5. What are the six comparison operators?\n",
    "Ans : \n",
    "   The following are the six comparison operators:\n",
    "      1. == :equal to\n",
    "      2. != : not equal to\n",
    "      3. >  : greater than\n",
    "      4. <  : less than\n",
    "      5. >= : greater than or equal to\n",
    "      6. <= : less than or equal to"
   ]
  },
  {
   "cell_type": "raw",
   "id": "a5c99373",
   "metadata": {},
   "source": [
    "6. How do you tell the difference between the equal to and assignment operators?Describe a\n",
    "condition and when you would use one.\n",
    "\n",
    "\n",
    "Ans : Equal to operator has two equal signs \"==\" where as assignment operator is a single equal sign \"=\"\n",
    "      The assigment operator \"=\" is used to assign values to variable \"x = 10\" whereas equal to \"==\" operator is used to         compare to two values and return a Boolean value indicating whether they are equal or not eg \"x == 10\". \n"
   ]
  },
  {
   "cell_type": "code",
   "execution_count": 2,
   "id": "866f6465",
   "metadata": {},
   "outputs": [
    {
     "name": "stdout",
     "output_type": "stream",
     "text": [
      "x is equal to 10\n"
     ]
    }
   ],
   "source": [
    "x= 10 \n",
    "if x == 10 :\n",
    "    print(\"x is equal to 10\")\n",
    "else :\n",
    "    print(\"x is not equal to 10\")"
   ]
  },
  {
   "cell_type": "raw",
   "id": "711b4238",
   "metadata": {},
   "source": [
    "7. Identify the three blocks in this code:\n",
    "spam = 0  \n",
    "if spam == 10:  \n",
    "print('eggs')  \n",
    "if spam > 5:  \n",
    "print('bacon')  \n",
    "else:  \n",
    "print('ham')  \n",
    "print('spam')  \n",
    "print('spam')\n",
    "\n",
    "Ans :\n",
    "     In Python, a block of code is a set of statements that are indented under the same parent statement, such as an if          statement, while loop, for loop, function, or class.\n",
    "     \n",
    "     --first block of code--\n",
    "         spam = 0  \n",
    "     \n",
    "     --second block of code---\n",
    "         if spam == 10:  \n",
    "            print('eggs')  \n",
    "         if spam > 5:  \n",
    "            print('bacon')  \n",
    "         else:  \n",
    "            print('ham') \n",
    "     \n",
    "     ---third block of code--\n",
    "         print('spam')  \n",
    "         print('spam')\n",
    "     \n"
   ]
  },
  {
   "cell_type": "raw",
   "id": "cb59952d",
   "metadata": {},
   "source": [
    "8. Write code that prints Hello if 1 is stored in spam, prints Howdy if 2 is stored in spam, and prints\n",
    "Greetings! if anything else is stored in spam.\n"
   ]
  },
  {
   "cell_type": "code",
   "execution_count": 3,
   "id": "64f4382d",
   "metadata": {},
   "outputs": [
    {
     "name": "stdout",
     "output_type": "stream",
     "text": [
      "Hello\n",
      "Howdy\n",
      "Greetings\n"
     ]
    }
   ],
   "source": [
    "#Answer to  Question 8 \n",
    "def spamCode(spam):\n",
    "    try :\n",
    "        if spam == 1:\n",
    "            print(\"Hello\")\n",
    "        elif spam == 2:\n",
    "            print(\"Howdy\")\n",
    "        else:\n",
    "            print(\"Greetings\")\n",
    "    except e:\n",
    "        print(e)\n",
    "spamCode(1)\n",
    "spamCode(2)\n",
    "spamCode(\"Hi\")"
   ]
  },
  {
   "cell_type": "raw",
   "id": "0c0be1f6",
   "metadata": {},
   "source": [
    "9.If your programme is stuck in an endless loop, what keys you’ll press?\n",
    "Ans : Press \"Ctrl + c\" to stop a program ."
   ]
  },
  {
   "cell_type": "raw",
   "id": "e263b702",
   "metadata": {},
   "source": [
    "10. How can you tell the difference between break and continue?\n",
    "Ans : \"break\" and \"continue\" are both control flow statements but work differently form one another.\n",
    "      \"break\" is used to terminate the loop whereas \"continue\" is used to skip over the current iteration of a loop and            move on to the next iteration."
   ]
  },
  {
   "cell_type": "raw",
   "id": "235b74a8",
   "metadata": {},
   "source": [
    "11. In a for loop, what is the difference between range(10), range(0, 10), and range(0, 10, 1)?\n",
    "\n",
    "Ans :\n",
    "    range(10): This specifies a range which starts with 0 and goes upto 10 (not including 10 )\n",
    "    range(0,10) : Output of range(0,10) is similar to above but here we are telling it where to start                                         specifically.range(start,end)\n",
    "    range(0,10,1) : This also has same output but here we are also including the step size. step size is the amount by                         which the next value is incremented or decremented"
   ]
  },
  {
   "cell_type": "raw",
   "id": "59af973f",
   "metadata": {},
   "source": [
    "12. Write a short program that prints the numbers 1 to 10 using a for loop. Then write an equivalent\n",
    "program that prints the numbers 1 to 10 using a while loop.\n"
   ]
  },
  {
   "cell_type": "code",
   "execution_count": 4,
   "id": "62688c6f",
   "metadata": {},
   "outputs": [],
   "source": [
    "# Ans to question 12\n",
    "def printNumber():\n",
    "    print('-'*10,'For Loop','-'*10)\n",
    "    for i in range(1,11):\n",
    "        print(i ,end= \" \")\n",
    "    print(\"\\n\")\n",
    "    print('-'*10,'while Loop','-'*10)\n",
    "    i = 1\n",
    "    while(i <= 10):\n",
    "        print(i ,end= \" \")\n",
    "        i += 1\n",
    "        \n",
    "printNB        "
   ]
  },
  {
   "cell_type": "raw",
   "id": "8a41a644",
   "metadata": {},
   "source": [
    "13. If you had a function named bacon() inside a module named spam, how would you call it after\n",
    "importing spam?"
   ]
  },
  {
   "cell_type": "code",
   "execution_count": null,
   "id": "08120904",
   "metadata": {},
   "outputs": [],
   "source": []
  },
  {
   "cell_type": "code",
   "execution_count": null,
   "id": "12ddb232",
   "metadata": {},
   "outputs": [],
   "source": []
  },
  {
   "cell_type": "code",
   "execution_count": null,
   "id": "cc65113c",
   "metadata": {},
   "outputs": [],
   "source": []
  },
  {
   "cell_type": "code",
   "execution_count": null,
   "id": "e7677ca6",
   "metadata": {},
   "outputs": [],
   "source": []
  },
  {
   "cell_type": "code",
   "execution_count": null,
   "id": "c55fce31",
   "metadata": {},
   "outputs": [],
   "source": []
  },
  {
   "cell_type": "code",
   "execution_count": null,
   "id": "1708a5a7",
   "metadata": {},
   "outputs": [],
   "source": []
  },
  {
   "cell_type": "code",
   "execution_count": null,
   "id": "751098c1",
   "metadata": {},
   "outputs": [],
   "source": []
  },
  {
   "cell_type": "code",
   "execution_count": null,
   "id": "e5578e10",
   "metadata": {},
   "outputs": [],
   "source": []
  },
  {
   "cell_type": "code",
   "execution_count": null,
   "id": "d9ceeb87",
   "metadata": {},
   "outputs": [],
   "source": []
  },
  {
   "cell_type": "code",
   "execution_count": null,
   "id": "43bd3c5c",
   "metadata": {},
   "outputs": [],
   "source": []
  },
  {
   "cell_type": "code",
   "execution_count": null,
   "id": "76e94223",
   "metadata": {},
   "outputs": [],
   "source": []
  },
  {
   "cell_type": "code",
   "execution_count": null,
   "id": "476e80b0",
   "metadata": {},
   "outputs": [],
   "source": []
  },
  {
   "cell_type": "code",
   "execution_count": null,
   "id": "6a14c763",
   "metadata": {},
   "outputs": [],
   "source": []
  },
  {
   "cell_type": "code",
   "execution_count": null,
   "id": "3ddc77b9",
   "metadata": {},
   "outputs": [],
   "source": []
  },
  {
   "cell_type": "code",
   "execution_count": null,
   "id": "27c0ef5c",
   "metadata": {},
   "outputs": [],
   "source": []
  },
  {
   "cell_type": "code",
   "execution_count": null,
   "id": "a10f77c8",
   "metadata": {},
   "outputs": [],
   "source": []
  },
  {
   "cell_type": "code",
   "execution_count": null,
   "id": "fa2f4abd",
   "metadata": {},
   "outputs": [],
   "source": []
  },
  {
   "cell_type": "code",
   "execution_count": null,
   "id": "0ee71df3",
   "metadata": {},
   "outputs": [],
   "source": []
  },
  {
   "cell_type": "code",
   "execution_count": null,
   "id": "76cc7616",
   "metadata": {},
   "outputs": [],
   "source": []
  },
  {
   "cell_type": "code",
   "execution_count": null,
   "id": "5656089b",
   "metadata": {},
   "outputs": [],
   "source": []
  },
  {
   "cell_type": "code",
   "execution_count": null,
   "id": "fdb95ecb",
   "metadata": {},
   "outputs": [],
   "source": []
  },
  {
   "cell_type": "code",
   "execution_count": null,
   "id": "fe48a390",
   "metadata": {},
   "outputs": [],
   "source": []
  },
  {
   "cell_type": "code",
   "execution_count": null,
   "id": "0e258fdc",
   "metadata": {},
   "outputs": [],
   "source": []
  },
  {
   "cell_type": "code",
   "execution_count": null,
   "id": "d02df087",
   "metadata": {},
   "outputs": [],
   "source": []
  },
  {
   "cell_type": "code",
   "execution_count": null,
   "id": "e376a06b",
   "metadata": {},
   "outputs": [],
   "source": []
  },
  {
   "cell_type": "code",
   "execution_count": null,
   "id": "5093f5cc",
   "metadata": {},
   "outputs": [],
   "source": []
  },
  {
   "cell_type": "code",
   "execution_count": null,
   "id": "346e7c38",
   "metadata": {},
   "outputs": [],
   "source": []
  },
  {
   "cell_type": "code",
   "execution_count": null,
   "id": "a6fe6403",
   "metadata": {},
   "outputs": [],
   "source": []
  },
  {
   "cell_type": "code",
   "execution_count": null,
   "id": "b4d0937f",
   "metadata": {},
   "outputs": [],
   "source": []
  },
  {
   "cell_type": "code",
   "execution_count": null,
   "id": "fc80eade",
   "metadata": {},
   "outputs": [],
   "source": []
  },
  {
   "cell_type": "code",
   "execution_count": null,
   "id": "fbf01824",
   "metadata": {},
   "outputs": [],
   "source": []
  },
  {
   "cell_type": "code",
   "execution_count": null,
   "id": "3ba67ae4",
   "metadata": {},
   "outputs": [],
   "source": []
  },
  {
   "cell_type": "code",
   "execution_count": null,
   "id": "2216261d",
   "metadata": {},
   "outputs": [],
   "source": []
  }
 ],
 "metadata": {
  "kernelspec": {
   "display_name": "Python 3 (ipykernel)",
   "language": "python",
   "name": "python3"
  },
  "language_info": {
   "codemirror_mode": {
    "name": "ipython",
    "version": 3
   },
   "file_extension": ".py",
   "mimetype": "text/x-python",
   "name": "python",
   "nbconvert_exporter": "python",
   "pygments_lexer": "ipython3",
   "version": "3.9.7"
  }
 },
 "nbformat": 4,
 "nbformat_minor": 5
}
